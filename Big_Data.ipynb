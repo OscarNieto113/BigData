{
  "cells": [
    {
      "cell_type": "markdown",
      "metadata": {
        "id": "qXQY2bKHUSwm"
      },
      "source": [
        "# Módulo 1 Utilización, procesamiento y visualización de grandes volúmenes de datos (Portafolio Análisis)\n",
        "\n",
        "Oscar Eduardo Nieto Espitia - A01705090"
      ]
    },
    {
      "cell_type": "markdown",
      "source": [
        " Se instala Java 8, descarga e instala Apache Spark, y configura las variables de entorno necesarias para que Python pueda utilizar Spark. Luego, se utiliza findspark para asegurarse de que Python pueda encontrar Spark. Esto te permitirá utilizar Spark en el entorno de trabajo de Python."
      ],
      "metadata": {
        "id": "TpfF_oimezu3"
      }
    },
    {
      "cell_type": "code",
      "execution_count": null,
      "metadata": {
        "colab": {
          "base_uri": "https://localhost:8080/"
        },
        "id": "gwqq-x3JUQX8",
        "outputId": "03346956-9f04-495f-c464-1b025200ebe9"
      },
      "outputs": [
        {
          "name": "stdout",
          "output_type": "stream",
          "text": [
            "\u001b[33m\r0% [Working]\u001b[0m\r            \rHit:1 https://cloud.r-project.org/bin/linux/ubuntu jammy-cran40/ InRelease\n",
            "Hit:2 https://developer.download.nvidia.com/compute/cuda/repos/ubuntu2204/x86_64  InRelease\n",
            "Hit:3 http://security.ubuntu.com/ubuntu jammy-security InRelease\n",
            "Hit:4 http://archive.ubuntu.com/ubuntu jammy InRelease\n",
            "Hit:5 http://archive.ubuntu.com/ubuntu jammy-updates InRelease\n",
            "Hit:6 http://archive.ubuntu.com/ubuntu jammy-backports InRelease\n",
            "Hit:7 https://ppa.launchpadcontent.net/c2d4u.team/c2d4u4.0+/ubuntu jammy InRelease\n",
            "Hit:8 https://ppa.launchpadcontent.net/deadsnakes/ppa/ubuntu jammy InRelease\n",
            "Hit:9 https://ppa.launchpadcontent.net/graphics-drivers/ppa/ubuntu jammy InRelease\n",
            "Hit:10 https://ppa.launchpadcontent.net/ubuntugis/ppa/ubuntu jammy InRelease\n",
            "Reading package lists... Done\n",
            "Building dependency tree... Done\n",
            "Reading state information... Done\n",
            "22 packages can be upgraded. Run 'apt list --upgradable' to see them.\n",
            "Requirement already satisfied: pyspark in /usr/local/lib/python3.10/dist-packages (3.5.0)\n",
            "Requirement already satisfied: py4j==0.10.9.7 in /usr/local/lib/python3.10/dist-packages (from pyspark) (0.10.9.7)\n"
          ]
        },
        {
          "data": {
            "application/vnd.google.colaboratory.intrinsic+json": {
              "type": "string"
            },
            "text/plain": [
              "'/content/spark-3.4.1-bin-hadoop3'"
            ]
          },
          "execution_count": 17,
          "metadata": {},
          "output_type": "execute_result"
        }
      ],
      "source": [
        "!sudo apt update\n",
        "!apt-get install openjdk-8-jdk-headless -qq > /dev/null\n",
        "!wget -q https://downloads.apache.org/spark/spark-3.4.1//spark-3.4.1-bin-hadoop3.tgz\n",
        "!tar xf spark-3.4.1-bin-hadoop3.tgz\n",
        "!pip install -q findspark\n",
        "!pip install pyspark\n",
        "\n",
        "import os\n",
        "os.environ[\"JAVA_HOME\"] = \"/usr/lib/jvm/java-8-openjdk-amd64\"\n",
        "os.environ[\"SPARK_HOME\"] = \"/content/spark-3.4.1-bin-hadoop3\"\n",
        "\n",
        "import findspark\n",
        "findspark.init()\n",
        "findspark.find()"
      ]
    },
    {
      "cell_type": "markdown",
      "metadata": {
        "id": "ZX8EPEF1WXVU"
      },
      "source": [
        "## Dataset\n",
        "El conjunto de datos utilizado en este proyecto contiene información sobre incidentes de crímenes en la ciudad de Chicago desde 2001 hasta la fecha actual, excluyendo los datos de los últimos siete días. Los datos se obtienen del sistema CLEAR (Citizen Law Enforcement Analysis and Reporting) del Departamento de Policía de Chicago. Para proteger la privacidad de las víctimas de crímenes, las direcciones se muestran solo a nivel de bloque, y no se identifican ubicaciones específicas. Es importante destacar que los datos pueden basarse en información preliminar proporcionada por las partes que informan los incidentes y pueden cambiar después de investigaciones adicionales.\n",
        "\n",
        "## Objetivo:\n",
        "El objetivo del proyecto es construir un modelo de aprendizaje automático que pueda predecir si un sospechoso involucrado en un incidente de crimen en Chicago fue arrestado o no. Para lograr esto, se utilizarán diversas características de los incidentes, como si son domésticos, la ubicación, el distrito, el año y otras, para entrenar un modelo de clasificación. La columna \"Arrest\" en el dataset se utilizará como la variable objetivo, donde \"1\" podría representar arresto y \"0\" no arresto.\n",
        "https://data.cityofchicago.org/Public-Safety/Crimes-2001-to-Present/ijzp-q8t2"
      ]
    },
    {
      "cell_type": "markdown",
      "source": [
        "Montar Google Drive en Colab, lo que facilita el acceso a los archivos y datos almacenados en Google Drive desde el entorno de Colab."
      ],
      "metadata": {
        "id": "poyNaT9jfBC6"
      }
    },
    {
      "cell_type": "code",
      "execution_count": null,
      "metadata": {
        "colab": {
          "base_uri": "https://localhost:8080/"
        },
        "id": "QOI_tMxzU36Z",
        "outputId": "c2b6d37f-1eb0-42c1-d5ff-73b147f021f3"
      },
      "outputs": [
        {
          "name": "stdout",
          "output_type": "stream",
          "text": [
            "Drive already mounted at /content/gdrive; to attempt to forcibly remount, call drive.mount(\"/content/gdrive\", force_remount=True).\n",
            "/content\n"
          ]
        }
      ],
      "source": [
        "from google.colab import drive\n",
        "\n",
        "drive.mount(\"/content/gdrive\")\n",
        "!pwd"
      ]
    },
    {
      "cell_type": "markdown",
      "source": [
        "Configura una sesión de Spark, carga los datos de un archivo CSV que contiene información sobre crímenes en Chicago"
      ],
      "metadata": {
        "id": "KA6bkzhCfwhR"
      }
    },
    {
      "cell_type": "code",
      "execution_count": null,
      "metadata": {
        "id": "HM1-L-0wWt8z"
      },
      "outputs": [],
      "source": [
        "from pyspark.sql import SparkSession\n",
        "from pyspark.sql import Row\n",
        "from pyspark.ml.feature import StringIndexer\n",
        "from pyspark.ml.classification import LogisticRegression\n",
        "from pyspark.ml.regression import LinearRegression\n",
        "from pyspark.ml.evaluation import BinaryClassificationEvaluator\n",
        "from pyspark.ml.feature import VectorAssembler\n",
        "from pyspark.sql.functions import when, col\n",
        "from pyspark.ml.evaluation import MulticlassClassificationEvaluator\n",
        "from pyspark.sql.functions import col, expr\n",
        "from pyspark.sql import functions as F\n",
        "\n",
        "spark = SparkSession.builder.appName(\"bigdata\").getOrCreate()\n",
        "\n",
        "pathCSV = '/content/gdrive/MyDrive/Cursos/IA95022/Big Data/Crimes.csv'\n",
        "\n",
        "data = spark.read.csv(pathCSV, header=True, inferSchema=True)"
      ]
    },
    {
      "cell_type": "code",
      "execution_count": null,
      "metadata": {
        "colab": {
          "base_uri": "https://localhost:8080/"
        },
        "id": "4wwBAsSrdf3D",
        "outputId": "1ae5e5dd-99b0-417b-a19f-a1b42d991edc"
      },
      "outputs": [
        {
          "name": "stdout",
          "output_type": "stream",
          "text": [
            "root\n",
            " |-- ID: integer (nullable = true)\n",
            " |-- Case Number: string (nullable = true)\n",
            " |-- Date: string (nullable = true)\n",
            " |-- Block: string (nullable = true)\n",
            " |-- IUCR: string (nullable = true)\n",
            " |-- Primary Type: string (nullable = true)\n",
            " |-- Description: string (nullable = true)\n",
            " |-- Location Description: string (nullable = true)\n",
            " |-- Arrest: boolean (nullable = true)\n",
            " |-- Domestic: boolean (nullable = true)\n",
            " |-- Beat: integer (nullable = true)\n",
            " |-- District: integer (nullable = true)\n",
            " |-- Ward: integer (nullable = true)\n",
            " |-- Community Area: integer (nullable = true)\n",
            " |-- FBI Code: string (nullable = true)\n",
            " |-- X Coordinate: integer (nullable = true)\n",
            " |-- Y Coordinate: integer (nullable = true)\n",
            " |-- Year: integer (nullable = true)\n",
            " |-- Updated On: string (nullable = true)\n",
            " |-- Latitude: double (nullable = true)\n",
            " |-- Longitude: double (nullable = true)\n",
            " |-- Location: string (nullable = true)\n",
            "\n"
          ]
        }
      ],
      "source": [
        "data.printSchema()"
      ]
    },
    {
      "cell_type": "code",
      "execution_count": null,
      "metadata": {
        "colab": {
          "base_uri": "https://localhost:8080/"
        },
        "id": "7DEmUxxlMtCX",
        "outputId": "e8d22e5f-5b57-471b-c957-a22742e7f80b"
      },
      "outputs": [
        {
          "name": "stdout",
          "output_type": "stream",
          "text": [
            "+--------+-----------+--------------------+--------------------+----+------------------+--------------------+--------------------+------+--------+----+--------+----+--------------+--------+------------+------------+----+--------------------+------------+-------------+--------------------+\n",
            "|      ID|Case Number|                Date|               Block|IUCR|      Primary Type|         Description|Location Description|Arrest|Domestic|Beat|District|Ward|Community Area|FBI Code|X Coordinate|Y Coordinate|Year|          Updated On|    Latitude|    Longitude|            Location|\n",
            "+--------+-----------+--------------------+--------------------+----+------------------+--------------------+--------------------+------+--------+----+--------+----+--------------+--------+------------+------------+----+--------------------+------------+-------------+--------------------+\n",
            "|11037294|   JA371270|03/18/2015 12:00:...|   0000X W WACKER DR|1153|DECEPTIVE PRACTICE|FINANCIAL IDENTIT...|                BANK| false|   false| 111|       1|  42|            32|      11|        null|        null|2015|08/01/2017 03:52:...|        null|         null|                null|\n",
            "|11646293|   JC213749|12/20/2018 03:00:...|023XX N LOCKWOOD AVE|1154|DECEPTIVE PRACTICE|FINANCIAL IDENTIT...|           APARTMENT| false|   false|2515|      25|  36|            19|      11|        null|        null|2018|04/06/2019 04:04:...|        null|         null|                null|\n",
            "|11645836|   JC212333|05/01/2016 12:25:...| 055XX S ROCKWELL ST|1153|DECEPTIVE PRACTICE|FINANCIAL IDENTIT...|                null| false|   false| 824|       8|  15|            63|      11|        null|        null|2016|04/06/2019 04:04:...|        null|         null|                null|\n",
            "|11645959|   JC211511|12/20/2018 04:00:...|  045XX N ALBANY AVE|2820|     OTHER OFFENSE|    TELEPHONE THREAT|           RESIDENCE| false|   false|1724|      17|  33|            14|     08A|        null|        null|2018|04/06/2019 04:04:...|        null|         null|                null|\n",
            "|11645601|   JC212935|06/01/2014 12:01:...| 087XX S SANGAMON ST|1153|DECEPTIVE PRACTICE|FINANCIAL IDENTIT...|           RESIDENCE| false|   false|2222|      22|  21|            71|      11|        null|        null|2014|04/06/2019 04:04:...|        null|         null|                null|\n",
            "|11646166|   JC213529|09/01/2018 12:01:...|082XX S INGLESIDE...|0810|             THEFT|           OVER $500|           RESIDENCE| false|    true| 631|       6|   8|            44|      06|        null|        null|2018|04/06/2019 04:04:...|        null|         null|                null|\n",
            "|11645648|   JC212959|01/01/2018 08:00:...| 024XX N MONITOR AVE|1153|DECEPTIVE PRACTICE|FINANCIAL IDENTIT...|           RESIDENCE| false|   false|2515|      25|  30|            19|      11|        null|        null|2018|04/06/2019 04:04:...|        null|         null|                null|\n",
            "|11645557|   JC212685|04/01/2018 12:01:...|  080XX S VERNON AVE|1153|DECEPTIVE PRACTICE|FINANCIAL IDENTIT...|           RESIDENCE| false|   false| 631|       6|   6|            44|      11|        null|        null|2018|04/06/2019 04:04:...|        null|         null|                null|\n",
            "|11645527|   JC212744|02/02/2015 10:00:...|  069XX W ARCHER AVE|1153|DECEPTIVE PRACTICE|FINANCIAL IDENTIT...|               OTHER| false|   false| 811|       8|  23|            56|      11|        null|        null|2015|04/06/2019 04:04:...|        null|         null|                null|\n",
            "|11645833|   JC213044|05/05/2012 12:25:...|     057XX W OHIO ST|1153|DECEPTIVE PRACTICE|FINANCIAL IDENTIT...|                null| false|   false|1511|      15|  29|            25|      11|        null|        null|2012|04/06/2019 04:04:...|        null|         null|                null|\n",
            "|11645568|   JC212803|12/18/2018 11:00:...|  032XX N WILTON AVE|1153|DECEPTIVE PRACTICE|FINANCIAL IDENTIT...|           RESIDENCE| false|   false|1924|      19|  44|             6|      11|        null|        null|2018|04/06/2019 04:04:...|        null|         null|                null|\n",
            "|12045583|   JD226426|05/07/2020 10:24:...| 035XX S INDIANA AVE|0820|             THEFT|      $500 AND UNDER|           APARTMENT| false|   false| 212|       2|   3|            35|      06|     1178180|     1881621|2020|05/14/2020 08:47:...|41.830481843|-87.621751752|(41.830481843, -8...|\n",
            "|12031001|   JD209965|04/16/2020 05:00:...|     005XX W 32ND ST|0460|           BATTERY|              SIMPLE|           APARTMENT|  true|   false| 915|       9|  11|            60|     08B|     1173292|     1883705|2020|04/23/2020 03:45:...|41.836310224|-87.639624112|(41.836310224, -8...|\n",
            "|12093529|   JD282112|07/01/2020 10:16:...|   081XX S COLES AVE|051A|           ASSAULT|AGGRAVATED - HANDGUN|              STREET|  true|   false| 422|       4|   7|            46|     04A|     1198234|     1851595|2020|07/08/2020 03:41:...|41.747609555|-87.549179329|(41.747609555, -8...|\n",
            "|12178140|   JD381597|09/27/2020 11:29:...| 065XX S WOLCOTT AVE|0460|           BATTERY|              SIMPLE|RESIDENCE - PORCH...| false|   false| 726|       7|  15|            67|     08B|     1164812|     1861251|2020|10/04/2020 03:43:...| 41.77487752|-87.671374872|(41.77487752, -87...|\n",
            "| 4144897|   HL474854|07/10/2005 03:00:...| 062XX S ABERDEEN ST|0430|           BATTERY|AGGRAVATED: OTHER...|              STREET| false|   false| 712|       7|  16|            68|     04B|     1170050|     1863524|2005|02/28/2018 03:56:...|41.781002663|-87.652107119|(41.781002663, -8...|\n",
            "| 1744168|    G553545|09/15/2001 02:00:...|     013XX W POLK ST|0460|           BATTERY|              SIMPLE|              STREET| false|   false|1213|      12|null|          null|     08B|        null|        null|2001|08/17/2015 03:03:...|        null|         null|                null|\n",
            "|11641644|   JC207234|03/31/2019 09:30:...|   005XX N ogden ave|0890|             THEFT|       FROM BUILDING|          RESTAURANT| false|   false|1215|      12|   1|            24|      06|        null|        null|2019|04/07/2019 04:05:...|        null|         null|                null|\n",
            "|11615821|   JC176668|01/01/2016 12:00:...| 054XX N NATCHEZ AVE|1195|DECEPTIVE PRACTICE|FINAN EXPLOIT-ELD...|           RESIDENCE| false|    true|1613|      16|  45|            10|      11|        null|        null|2016|03/08/2019 04:36:...|        null|         null|                null|\n",
            "|12126129|   JD321064|08/04/2020 08:28:...| 081XX S LOOMIS BLVD|143A| WEAPONS VIOLATION|UNLAWFUL POSSESSI...|              STREET|  true|   false| 613|       6|  21|            71|      15|     1168412|     1850836|2020|08/11/2020 03:42:...|41.746220584|-87.658477307|(41.746220584, -8...|\n",
            "+--------+-----------+--------------------+--------------------+----+------------------+--------------------+--------------------+------+--------+----+--------+----+--------------+--------+------------+------------+----+--------------------+------------+-------------+--------------------+\n",
            "only showing top 20 rows\n",
            "\n"
          ]
        }
      ],
      "source": [
        "data.show()"
      ]
    },
    {
      "cell_type": "markdown",
      "source": [
        "Se selecciona columnas específicas del DataFrame data, y crea una nueva columna llamada \"Arrest_Num\" que representa si hubo un arresto o no en función de la columna \"Arrest.\" Si \"Arrest\" es igual a \"true,\" se asigna el valor 1; de lo contrario, se asigna 0. Esto permite transformar la información sobre arrestos en una variable numérica y es útil para futuros análisis o la construcción de modelos de clasificación. Los resultados se muestran en el DataFrame resultante filtered_data."
      ],
      "metadata": {
        "id": "FL74eX5XgJQP"
      }
    },
    {
      "cell_type": "code",
      "execution_count": null,
      "metadata": {
        "colab": {
          "base_uri": "https://localhost:8080/"
        },
        "id": "5tjFoklHScOy",
        "outputId": "af277284-ef2f-45be-f260-344db20035a4"
      },
      "outputs": [
        {
          "name": "stdout",
          "output_type": "stream",
          "text": [
            "+------+--------+----+--------+----+------------+------------+----+----------+\n",
            "|Arrest|Domestic|Beat|District|Ward|X Coordinate|Y Coordinate|Year|Arrest_Num|\n",
            "+------+--------+----+--------+----+------------+------------+----+----------+\n",
            "| false|   false| 111|       1|  42|        null|        null|2015|         0|\n",
            "| false|   false|2515|      25|  36|        null|        null|2018|         0|\n",
            "| false|   false| 824|       8|  15|        null|        null|2016|         0|\n",
            "| false|   false|1724|      17|  33|        null|        null|2018|         0|\n",
            "| false|   false|2222|      22|  21|        null|        null|2014|         0|\n",
            "| false|    true| 631|       6|   8|        null|        null|2018|         0|\n",
            "| false|   false|2515|      25|  30|        null|        null|2018|         0|\n",
            "| false|   false| 631|       6|   6|        null|        null|2018|         0|\n",
            "| false|   false| 811|       8|  23|        null|        null|2015|         0|\n",
            "| false|   false|1511|      15|  29|        null|        null|2012|         0|\n",
            "| false|   false|1924|      19|  44|        null|        null|2018|         0|\n",
            "| false|   false| 212|       2|   3|     1178180|     1881621|2020|         0|\n",
            "|  true|   false| 915|       9|  11|     1173292|     1883705|2020|         1|\n",
            "|  true|   false| 422|       4|   7|     1198234|     1851595|2020|         1|\n",
            "| false|   false| 726|       7|  15|     1164812|     1861251|2020|         0|\n",
            "| false|   false| 712|       7|  16|     1170050|     1863524|2005|         0|\n",
            "| false|   false|1213|      12|null|        null|        null|2001|         0|\n",
            "| false|   false|1215|      12|   1|        null|        null|2019|         0|\n",
            "| false|    true|1613|      16|  45|        null|        null|2016|         0|\n",
            "|  true|   false| 613|       6|  21|     1168412|     1850836|2020|         1|\n",
            "+------+--------+----+--------+----+------------+------------+----+----------+\n",
            "only showing top 20 rows\n",
            "\n"
          ]
        }
      ],
      "source": [
        "cols = [\"Arrest\",\n",
        "        \"Domestic\",\n",
        "        \"Beat\",\n",
        "        \"District\",\n",
        "        \"Ward\",\n",
        "        \"X Coordinate\",\n",
        "        \"Y Coordinate\",\n",
        "        \"Year\"]\n",
        "\n",
        "filtered_data = data.select(*cols, when(col(\"Arrest\") == \"true\", 1).otherwise(0).alias(\"Arrest_Num\"))\n",
        "filtered_data.show()"
      ]
    },
    {
      "cell_type": "code",
      "execution_count": null,
      "metadata": {
        "colab": {
          "base_uri": "https://localhost:8080/"
        },
        "id": "xlFfcUoKUD1z",
        "outputId": "d1d78761-a18b-4fc3-c9a7-c4833760b58e"
      },
      "outputs": [
        {
          "name": "stdout",
          "output_type": "stream",
          "text": [
            "root\n",
            " |-- Arrest: boolean (nullable = true)\n",
            " |-- Domestic: boolean (nullable = true)\n",
            " |-- Beat: integer (nullable = true)\n",
            " |-- District: integer (nullable = true)\n",
            " |-- Ward: integer (nullable = true)\n",
            " |-- X Coordinate: integer (nullable = true)\n",
            " |-- Y Coordinate: integer (nullable = true)\n",
            " |-- Year: integer (nullable = true)\n",
            " |-- Arrest_Num: integer (nullable = false)\n",
            "\n"
          ]
        }
      ],
      "source": [
        "filtered_data.printSchema()"
      ]
    },
    {
      "cell_type": "code",
      "execution_count": null,
      "metadata": {
        "id": "aQwnz3DbmmvV"
      },
      "outputs": [],
      "source": [
        "filtered_data = filtered_data.na.drop()"
      ]
    },
    {
      "cell_type": "markdown",
      "source": [
        "Aquí se calcula la proporción de casos arrestados en un DataFrame, luego divide aleatoriamente los datos en conjuntos de entrenamiento y prueba para casos arrestados y no arrestados. Después, se combinan estos conjuntos de datos de entrenamiento y prueba, asegurando que mantengan una proporción similar de casos arrestados y no arrestados, lo que es fundamental en la preparación de datos para un modelo de clasificación."
      ],
      "metadata": {
        "id": "cboWIrSAhDnJ"
      }
    },
    {
      "cell_type": "code",
      "execution_count": null,
      "metadata": {
        "id": "v7uDjyYdwa0Q"
      },
      "outputs": [],
      "source": [
        "from pyspark.sql.functions import rand\n",
        "\n",
        "arrested_count = filtered_data.filter(col(\"Arrest_Num\") == 1).count()\n",
        "total_count = filtered_data.count()\n",
        "arrested_proportion = arrested_count / total_count\n",
        "\n",
        "arrested_data = filtered_data.filter(col(\"Arrest_Num\") == 1)\n",
        "non_arrested_data = filtered_data.filter(col(\"Arrest_Num\") == 0)\n",
        "\n",
        "train_proportion = 0.7\n",
        "train_arrested, test_arrested = arrested_data.randomSplit([train_proportion, 1 - train_proportion])\n",
        "train_non_arrested, test_non_arrested = non_arrested_data.randomSplit([train_proportion, 1 - train_proportion])\n",
        "\n",
        "train_data = train_arrested.union(train_non_arrested)\n",
        "test_data = test_arrested.union(test_non_arrested)\n"
      ]
    },
    {
      "cell_type": "code",
      "execution_count": null,
      "metadata": {
        "id": "1TK8Buqb74Kx"
      },
      "outputs": [],
      "source": [
        "data = data.drop(\"Arrest\")"
      ]
    },
    {
      "cell_type": "markdown",
      "source": [
        "Aquí se prepara las características, crea un modelo de regresión logística en Spark y lo entrena para predecir si un sospechoso fue arrestado o no. Utiliza un conjunto de características especificadas y las combina en una columna \"features\" utilizando VectorAssembler. Luego, el modelo de regresión logística se entrena en un conjunto de datos de entrenamiento y se utiliza para hacer predicciones en un conjunto de prueba. El resultado son predicciones que pueden evaluarse para determinar la precisión y eficacia del modelo en la clasificación de arrestos basados en las características proporcionadas."
      ],
      "metadata": {
        "id": "832XOR6SiDDX"
      }
    },
    {
      "cell_type": "code",
      "execution_count": null,
      "metadata": {
        "colab": {
          "background_save": true
        },
        "id": "D8N7cytjxFxR"
      },
      "outputs": [],
      "source": [
        "from pyspark.ml.feature import VectorAssembler\n",
        "\n",
        "feature_cols = [\"Domestic\", \"Beat\", \"District\", \"Ward\", \"X Coordinate\", \"Y Coordinate\", \"Year\"]\n",
        "\n",
        "assembler = VectorAssembler(inputCols=feature_cols, outputCol=\"features\")\n",
        "train_data = assembler.transform(train_data)\n",
        "test_data = assembler.transform(test_data)\n",
        "\n",
        "lr = LogisticRegression(labelCol=\"Arrest_Num\")\n",
        "\n",
        "# Entrena el modelo en el conjunto de entrenamiento\n",
        "model = lr.fit(train_data)\n",
        "\n",
        "# Realiza predicciones en el conjunto de prueba\n",
        "predictions = model.transform(test_data)"
      ]
    },
    {
      "cell_type": "markdown",
      "source": [],
      "metadata": {
        "id": "8m4HreiMiNx-"
      }
    },
    {
      "cell_type": "markdown",
      "source": [
        "Se encarga de evaluar el rendimiento del modelo de regresión logística. Utiliza dos evaluadores: uno para medir la precisión en una evaluación de clasificación binaria y otro para calcular el puntaje F1 en una evaluación de clasificación multiclase."
      ],
      "metadata": {
        "id": "mg5WxvKYia5M"
      }
    },
    {
      "cell_type": "code",
      "execution_count": null,
      "metadata": {
        "colab": {
          "background_save": true
        },
        "id": "mi7Xxg7cUUTG",
        "outputId": "52135660-2987-4fcf-dbef-bfea096b6e04"
      },
      "outputs": [
        {
          "name": "stdout",
          "output_type": "stream",
          "text": [
            "Accuracy: 0.5953724943590049\n",
            "F1 Score: 0.6351049520687025\n"
          ]
        }
      ],
      "source": [
        "evaluator = BinaryClassificationEvaluator(labelCol=\"Arrest_Num\")\n",
        "evaluator2 = MulticlassClassificationEvaluator(labelCol=\"Arrest_Num\", predictionCol=\"prediction\", metricName=\"f1\")\n",
        "\n",
        "accuracy = evaluator.evaluate(predictions)\n",
        "f1_score = evaluator2.evaluate(predictions)\n",
        "\n",
        "print(f\"Accuracy: {accuracy}\")\n",
        "print(\"F1 Score:\", f1_score)"
      ]
    },
    {
      "cell_type": "markdown",
      "source": [
        "Permite inspeccionar las predicciones del modelo en el conjunto de prueba y analizar cómo se comporta en casos específicos, lo que puede ser útil para comprender mejor su rendimiento."
      ],
      "metadata": {
        "id": "qg7esnDjwGSW"
      }
    },
    {
      "cell_type": "code",
      "execution_count": null,
      "metadata": {
        "colab": {
          "background_save": true
        },
        "id": "RpgfCPLbW5D5",
        "outputId": "3436d5d9-3288-4fa3-c5a3-e3b991571b0f"
      },
      "outputs": [
        {
          "name": "stdout",
          "output_type": "stream",
          "text": [
            "+------+--------+----+--------+----+------------+------------+----+----------+--------------------+--------------------+--------------------+----------+\n",
            "|Arrest|Domestic|Beat|District|Ward|X Coordinate|Y Coordinate|Year|Arrest_Num|            features|       rawPrediction|         probability|prediction|\n",
            "+------+--------+----+--------+----+------------+------------+----+----------+--------------------+--------------------+--------------------+----------+\n",
            "|  true|   false| 111|       1|   2|     1173162|     1899653|2005|         1|[0.0,111.0,1.0,2....|[0.62326070363783...|[0.65095978098321...|       0.0|\n",
            "|  true|   false| 111|       1|   2|     1173177|     1899236|2005|         1|[0.0,111.0,1.0,2....|[0.62333241186021...|[0.65097607371411...|       0.0|\n",
            "|  true|   false| 111|       1|   2|     1173179|     1899179|2006|         1|[0.0,111.0,1.0,2....|[0.66717666791062...|[0.66087067993912...|       0.0|\n",
            "|  true|   false| 111|       1|   2|     1173895|     1899278|2005|         1|[0.0,111.0,1.0,2....|[0.62986160292655...|[0.65245808041429...|       0.0|\n",
            "|  true|   false| 111|       1|  34|     1176352|     1900927|2023|         1|[0.0,111.0,1.0,34...|[1.52839630958173...|[0.82177155398825...|       0.0|\n",
            "|  true|   false| 111|       1|  34|     1176352|     1900927|2023|         1|[0.0,111.0,1.0,34...|[1.52839630958173...|[0.82177155398825...|       0.0|\n",
            "|  true|   false| 111|       1|  34|     1176352|     1900927|2023|         1|[0.0,111.0,1.0,34...|[1.52839630958173...|[0.82177155398825...|       0.0|\n",
            "|  true|   false| 111|       1|  34|     1176352|     1900927|2023|         1|[0.0,111.0,1.0,34...|[1.52839630958173...|[0.82177155398825...|       0.0|\n",
            "|  true|   false| 111|       1|  34|     1176352|     1900927|2023|         1|[0.0,111.0,1.0,34...|[1.52839630958173...|[0.82177155398825...|       0.0|\n",
            "|  true|   false| 111|       1|  34|     1176352|     1900927|2023|         1|[0.0,111.0,1.0,34...|[1.52839630958173...|[0.82177155398825...|       0.0|\n",
            "|  true|   false| 111|       1|  34|     1176352|     1900927|2023|         1|[0.0,111.0,1.0,34...|[1.52839630958173...|[0.82177155398825...|       0.0|\n",
            "|  true|   false| 111|       1|  34|     1176352|     1900927|2023|         1|[0.0,111.0,1.0,34...|[1.52839630958173...|[0.82177155398825...|       0.0|\n",
            "|  true|   false| 111|       1|  34|     1176352|     1900927|2023|         1|[0.0,111.0,1.0,34...|[1.52839630958173...|[0.82177155398825...|       0.0|\n",
            "|  true|   false| 111|       1|  34|     1176352|     1900927|2023|         1|[0.0,111.0,1.0,34...|[1.52839630958173...|[0.82177155398825...|       0.0|\n",
            "|  true|   false| 111|       1|  34|     1176883|     1901295|2023|         1|[0.0,111.0,1.0,34...|[1.53327716564020...|[0.82248529677165...|       0.0|\n",
            "|  true|   false| 111|       1|  34|     1176939|     1900830|2021|         1|[0.0,111.0,1.0,34...|[1.44604408464236...|[0.80938886803765...|       0.0|\n",
            "|  true|   false| 111|       1|  42|     1172231|     1900286|2005|         1|[0.0,111.0,1.0,42...|[0.72356391448029...|[0.67339133202715...|       0.0|\n",
            "|  true|   false| 111|       1|  42|     1172502|     1900292|2005|         1|[0.0,111.0,1.0,42...|[0.72602674956006...|[0.67393276527457...|       0.0|\n",
            "|  true|   false| 111|       1|  42|     1172573|     1900294|2005|         1|[0.0,111.0,1.0,42...|[0.72667206044457...|[0.67407455473975...|       0.0|\n",
            "|  true|   false| 111|       1|  42|     1172586|     1900294|2005|         1|[0.0,111.0,1.0,42...|[0.72679015926425...|[0.67410050028665...|       0.0|\n",
            "+------+--------+----+--------+----+------------+------------+----+----------+--------------------+--------------------+--------------------+----------+\n",
            "only showing top 20 rows\n",
            "\n"
          ]
        }
      ],
      "source": [
        "prediction_result = model.evaluate(test_data)\n",
        "prediction_result.predictions.show()"
      ]
    },
    {
      "cell_type": "code",
      "execution_count": null,
      "metadata": {
        "colab": {
          "background_save": true
        },
        "id": "wXeGNHTqXAK5"
      },
      "outputs": [],
      "source": [
        "model.save(\"ArrestModel.dt\")"
      ]
    },
    {
      "cell_type": "code",
      "execution_count": null,
      "metadata": {
        "colab": {
          "background_save": true
        },
        "id": "PHoVoW6_XHlW"
      },
      "outputs": [],
      "source": [
        "#spark.stop()"
      ]
    }
  ],
  "metadata": {
    "colab": {
      "provenance": []
    },
    "kernelspec": {
      "display_name": "Python 3",
      "name": "python3"
    },
    "language_info": {
      "name": "python"
    }
  },
  "nbformat": 4,
  "nbformat_minor": 0
}